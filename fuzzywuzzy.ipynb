{
 "cells": [
  {
   "cell_type": "code",
   "execution_count": 97,
   "metadata": {
    "collapsed": false
   },
   "outputs": [],
   "source": [
    "import pandas as pd\n",
    "import numpy as np\n",
    "from fuzzywuzzy import fuzz\n",
    "\n",
    "\n",
    "\n",
    "df = pd.read_csv('data/turnstile_160507.txt') \n",
    "df_income = pd.read_csv('merged.csv')\n"
   ]
  },
  {
   "cell_type": "code",
   "execution_count": 98,
   "metadata": {
    "collapsed": false
   },
   "outputs": [
    {
     "data": {
      "text/plain": [
       "Index(['Unnamed: 0', 'subway line', 'lat', 'long', 'stop_name', 'county',\n",
       "       'census', 'GEO.display-label', 'GEOid2', 'Information_Industry_#',\n",
       "       'Information_Industry_%', 'HHI_200+_#', 'HHI_200+_%', '2015_med_inc'],\n",
       "      dtype='object')"
      ]
     },
     "execution_count": 98,
     "metadata": {},
     "output_type": "execute_result"
    }
   ],
   "source": [
    "df_income.columns"
   ]
  },
  {
   "cell_type": "code",
   "execution_count": 100,
   "metadata": {
    "collapsed": false
   },
   "outputs": [],
   "source": [
    "df_income = df_income.groupby(['lat','long','stop_name', 'Information_Industry_%', '2015_med_inc'], as_index=False)['subway line'].sum()"
   ]
  },
  {
   "cell_type": "code",
   "execution_count": 101,
   "metadata": {
    "collapsed": false
   },
   "outputs": [
    {
     "data": {
      "text/html": [
       "<div>\n",
       "<table border=\"1\" class=\"dataframe\">\n",
       "  <thead>\n",
       "    <tr style=\"text-align: right;\">\n",
       "      <th></th>\n",
       "      <th>lat</th>\n",
       "      <th>long</th>\n",
       "      <th>stop_name</th>\n",
       "      <th>Information_Industry_%</th>\n",
       "      <th>2015_med_inc</th>\n",
       "      <th>subway line</th>\n",
       "    </tr>\n",
       "  </thead>\n",
       "  <tbody>\n",
       "    <tr>\n",
       "      <th>0</th>\n",
       "      <td>40.575929</td>\n",
       "      <td>-73.976747</td>\n",
       "      <td>W 8 St.-New York Aquarium</td>\n",
       "      <td>1.8</td>\n",
       "      <td>30889</td>\n",
       "      <td>FQ</td>\n",
       "    </tr>\n",
       "    <tr>\n",
       "      <th>1</th>\n",
       "      <td>40.576234</td>\n",
       "      <td>-73.967561</td>\n",
       "      <td>Ocean Parkway</td>\n",
       "      <td>0.5</td>\n",
       "      <td>22384</td>\n",
       "      <td>Q</td>\n",
       "    </tr>\n",
       "    <tr>\n",
       "      <th>2</th>\n",
       "      <td>40.576900</td>\n",
       "      <td>-73.980846</td>\n",
       "      <td>Coney Island-Stillwell Ave.</td>\n",
       "      <td>1.8</td>\n",
       "      <td>30889</td>\n",
       "      <td>DFNQ</td>\n",
       "    </tr>\n",
       "    <tr>\n",
       "      <th>3</th>\n",
       "      <td>40.577986</td>\n",
       "      <td>-73.960258</td>\n",
       "      <td>Brighton Beach</td>\n",
       "      <td>0.0</td>\n",
       "      <td>28750</td>\n",
       "      <td>BQ</td>\n",
       "    </tr>\n",
       "    <tr>\n",
       "      <th>4</th>\n",
       "      <td>40.580576</td>\n",
       "      <td>-73.974443</td>\n",
       "      <td>Neptune Ave.</td>\n",
       "      <td>0.8</td>\n",
       "      <td>53158</td>\n",
       "      <td>F</td>\n",
       "    </tr>\n",
       "  </tbody>\n",
       "</table>\n",
       "</div>"
      ],
      "text/plain": [
       "         lat       long                    stop_name  Information_Industry_%  \\\n",
       "0  40.575929 -73.976747    W 8 St.-New York Aquarium                     1.8   \n",
       "1  40.576234 -73.967561                Ocean Parkway                     0.5   \n",
       "2  40.576900 -73.980846  Coney Island-Stillwell Ave.                     1.8   \n",
       "3  40.577986 -73.960258               Brighton Beach                     0.0   \n",
       "4  40.580576 -73.974443                 Neptune Ave.                     0.8   \n",
       "\n",
       "   2015_med_inc subway line  \n",
       "0         30889          FQ  \n",
       "1         22384           Q  \n",
       "2         30889        DFNQ  \n",
       "3         28750          BQ  \n",
       "4         53158           F  "
      ]
     },
     "execution_count": 101,
     "metadata": {},
     "output_type": "execute_result"
    }
   ],
   "source": [
    "df_income.head(5)"
   ]
  },
  {
   "cell_type": "code",
   "execution_count": 105,
   "metadata": {
    "collapsed": false
   },
   "outputs": [],
   "source": [
    "import csv\n",
    "\n",
    "df_income['COMPLETE_NAME'] = df_income['stop_name'] + ' ' + df_income['subway line']\n",
    "with open('merge_mapping.csv') as namefile:\n",
    "    reader = csv.reader(namefile)\n",
    "    for row in reader:\n",
    "        df_income.loc[df_income.COMPLETE_NAME == row[0], 'COMPLETE_NAME'] = row[1]\n",
    "df_income.head(10)\n",
    "df_income.to_csv('final_merge_info.csv')"
   ]
  },
  {
   "cell_type": "code",
   "execution_count": 93,
   "metadata": {
    "collapsed": false
   },
   "outputs": [],
   "source": [
    "df['COMPLETE_NAME'] = df['STATION'] + ' ' + df['LINENAME']\n",
    "df_income['COMPLETE_NAME'] = df_income['stop_name'] + ' ' + df_income['subway line']"
   ]
  },
  {
   "cell_type": "code",
   "execution_count": 47,
   "metadata": {
    "collapsed": false
   },
   "outputs": [],
   "source": [
    "name_list = list(df_names)\n",
    "f = open('name_mapping.csv', 'w')\n",
    "for i in range(len(name_list)):\n",
    "    result = process.extract(name_list[i], name_list, limit=2)\n",
    "    score = result[1]\n",
    "    if (score[1] > 92 and score[1] < 100):\n",
    "        name_mapping[name_list[i]]= score[0]\n",
    "        f.write(name_list[i] + \",\" + score[0]+\"\\n\")\n",
    "f.close()"
   ]
  },
  {
   "cell_type": "code",
   "execution_count": 95,
   "metadata": {
    "collapsed": false
   },
   "outputs": [],
   "source": [
    "from fuzzywuzzy import process\n",
    "f = open('mer_mapping.csv', 'w')\n",
    "names = df['COMPLETE_NAME'].unique()\n",
    "for name in df_income['COMPLETE_NAME'].unique():\n",
    "    score = process.extractOne(name, names, scorer=fuzz.token_sort_ratio)\n",
    "    f.write(name + \",\" + score[0]+\"\\n\")\n",
    "f.close()"
   ]
  }
 ],
 "metadata": {
  "anaconda-cloud": {},
  "kernelspec": {
   "display_name": "Python [conda root]",
   "language": "python",
   "name": "conda-root-py"
  },
  "language_info": {
   "codemirror_mode": {
    "name": "ipython",
    "version": 3
   },
   "file_extension": ".py",
   "mimetype": "text/x-python",
   "name": "python",
   "nbconvert_exporter": "python",
   "pygments_lexer": "ipython3",
   "version": "3.5.2"
  }
 },
 "nbformat": 4,
 "nbformat_minor": 1
}
