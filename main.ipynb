{
 "cells": [
  {
   "cell_type": "code",
   "execution_count": null,
   "metadata": {
    "collapsed": false
   },
   "outputs": [],
   "source": [
    "import pandas as pd\n",
    "import numpy as np\n",
    "\n",
    "data =  open('links.txt').read().splitlines()\n",
    "PATH = 'data/'\n",
    "data\n",
    "\n"
   ]
  },
  {
   "cell_type": "code",
   "execution_count": null,
   "metadata": {
    "collapsed": false
   },
   "outputs": [],
   "source": [
    "dfs = [pd.read_csv(PATH + path) for path in data]\n",
    "df = pd.concat(dfs, ignore_index=True)"
   ]
  },
  {
   "cell_type": "code",
   "execution_count": null,
   "metadata": {
    "collapsed": false
   },
   "outputs": [],
   "source": [
    "df.info()"
   ]
  },
  {
   "cell_type": "code",
   "execution_count": null,
   "metadata": {
    "collapsed": false
   },
   "outputs": [],
   "source": [
    "df.columns = df.columns.str.strip()\n",
    "\n",
    "df.columns"
   ]
  },
  {
   "cell_type": "code",
   "execution_count": null,
   "metadata": {
    "collapsed": false
   },
   "outputs": [],
   "source": [
    "df['DATETIME'] = pd.to_datetime(df.DATE + \" \" + df.TIME, format='%m/%d/%Y %H:%M:%S')\n",
    "df.head(5)"
   ]
  },
  {
   "cell_type": "code",
   "execution_count": null,
   "metadata": {
    "collapsed": false
   },
   "outputs": [],
   "source": [
    "# Make sure there are no duplicate entries\n",
    "df.drop_duplicates(subset=[\"C/A\", \"UNIT\", \"SCP\", \"STATION\", \"DATETIME\"], inplace=True)"
   ]
  },
  {
   "cell_type": "code",
   "execution_count": null,
   "metadata": {
    "collapsed": false
   },
   "outputs": [],
   "source": [
    "df[[\"PREV_DATETIME\", \"PREV_ENTRIES\", \"PREV_EXITS\"]] = (df.groupby([\"C/A\", \"UNIT\", \"SCP\", \"STATION\"])[\"DATETIME\", \"ENTRIES\", \"EXITS\"]\n",
    "                                            .transform(lambda grp: grp.shift(1)))\n",
    "df.head(5)"
   ]
  },
  {
   "cell_type": "code",
   "execution_count": null,
   "metadata": {
    "collapsed": false
   },
   "outputs": [],
   "source": [
    "df.dropna(subset=[\"PREV_DATETIME\"], axis=0, inplace=True)"
   ]
  },
  {
   "cell_type": "code",
   "execution_count": null,
   "metadata": {
    "collapsed": false,
    "scrolled": true
   },
   "outputs": [],
   "source": [
    "df['TIME_INTERVAL'] = df['DATETIME'] - df['PREV_DATETIME']\n",
    "df = df.drop(df[(df['TIME_INTERVAL'] > '05:00:00') & (df['TIME_INTERVAL'] < '03:00:00')].index)\n",
    "df.head(5)"
   ]
  },
  {
   "cell_type": "code",
   "execution_count": null,
   "metadata": {
    "collapsed": false
   },
   "outputs": [],
   "source": [
    "# modify entry counts that are negative and remove the ones with outrageous values\n",
    "df['ENTRY_COUNT'] = df.ENTRIES - df.PREV_ENTRIES\n",
    "df.ix[df.ENTRY_COUNT < 0, 'ENTRY_COUNT'] =  - df['ENTRY_COUNT']\n",
    "df = df.drop(df[df.ENTRY_COUNT > 1000000].index)"
   ]
  },
  {
   "cell_type": "code",
   "execution_count": null,
   "metadata": {
    "collapsed": false
   },
   "outputs": [],
   "source": [
    "# modify exit counts that are negative and remove the ones with outrageous values\n",
    "df['EXIT_COUNT'] = df.EXITS - df.PREV_EXITS\n",
    "df.ix[df.EXIT_COUNT < 0, 'EXIT_COUNT'] =  - df['EXIT_COUNT']\n",
    "df = df.drop(df[df.EXIT_COUNT > 1000000].index)\n",
    "df.head(5)"
   ]
  },
  {
   "cell_type": "code",
   "execution_count": null,
   "metadata": {
    "collapsed": false
   },
   "outputs": [],
   "source": [
    "df['DATE'] = pd.to_datetime(df['DATE'], format='%m/%d/%Y')\n",
    "df['WEEKDAY'] = df['DATE'].dt.dayofweek\n",
    "df['TIME'] = pd.to_datetime(df['TIME'], format='%H:%M:%S')\n",
    "df['HOUR'] = df['TIME'].dt.hour\n",
    "df.head(5)"
   ]
  },
  {
   "cell_type": "code",
   "execution_count": null,
   "metadata": {
    "collapsed": false
   },
   "outputs": [],
   "source": [
    "df = df[(df['DATE'] >= '05/01/2016') & (df['DATE'] < '07/01/2016')]\n",
    "df.head(5)"
   ]
  },
  {
   "cell_type": "code",
   "execution_count": null,
   "metadata": {
    "collapsed": false
   },
   "outputs": [],
   "source": [
    "\n",
    "df_weekday = df[df.WEEKDAY < 5]\n",
    "df_weekend = df[df.WEEKDAY > 4]\n",
    "\n",
    "df_weekend.head(5)"
   ]
  },
  {
   "cell_type": "code",
   "execution_count": null,
   "metadata": {
    "collapsed": false
   },
   "outputs": [],
   "source": [
    "\n",
    "df_weekend.head(5)"
   ]
  },
  {
   "cell_type": "code",
   "execution_count": null,
   "metadata": {
    "collapsed": false
   },
   "outputs": [],
   "source": [
    "df_weekend = df_weekend[['STATION', 'LINENAME', 'WEEKDAY', 'HOUR', 'ENTRY_COUNT', 'EXIT_COUNT', 'DATE']]\n",
    "df_weekend.head(5)\n"
   ]
  },
  {
   "cell_type": "code",
   "execution_count": null,
   "metadata": {
    "collapsed": false
   },
   "outputs": [],
   "source": [
    "import pandas as pd\n",
    "import numpy as np\n",
    "import matplotlib.pyplot as plt\n",
    "from IPython.display import Image\n",
    "\n",
    "%matplotlib inline\n",
    "import seaborn as sns\n",
    "\n",
    "ax = plt.axes()\n",
    "df_weekend_top_times = df_weekend.groupby('HOUR',as_index=False)['ENTRY_COUNT'].mean()\n",
    "sns.barplot(x='HOUR', y='ENTRY_COUNT', data=df_weekend_top_times)\n",
    "ax.set_ylabel('4 hour entry counts')"
   ]
  },
  {
   "cell_type": "code",
   "execution_count": null,
   "metadata": {
    "collapsed": false
   },
   "outputs": [],
   "source": [
    "df_weekend_daily_entries = df_weekend.groupby(['STATION', 'LINENAME', 'DATE'], as_index=False)['ENTRY_COUNT'].sum()\n",
    "\n",
    "\n",
    "df_weekend_daily_entries = df_weekend_daily_entries.groupby(['STATION', 'LINENAME'], as_index=False)['ENTRY_COUNT'].mean()\n",
    "df_weekend_daily_entries.head(10)"
   ]
  },
  {
   "cell_type": "code",
   "execution_count": null,
   "metadata": {
    "collapsed": false
   },
   "outputs": [],
   "source": [
    "df_weekend_top_stations = df_weekend_daily_entries.sort_values(by=['ENTRY_COUNT']).tail(10)\n",
    "df_weekend_top_stations"
   ]
  },
  {
   "cell_type": "code",
   "execution_count": null,
   "metadata": {
    "collapsed": false
   },
   "outputs": [],
   "source": [
    "sns.barplot(x='STATION', y='ENTRY_COUNT', data=df_weekend_top_stations)\n",
    "ax = plt.axes()\n",
    "ax.set_title('Top stations on the weekends')\n",
    "ax.set_ylabel('Daily entries')\n",
    "for l in ax.get_xticklabels():\n",
    "    l.set_rotation(90)"
   ]
  },
  {
   "cell_type": "code",
   "execution_count": null,
   "metadata": {
    "collapsed": false
   },
   "outputs": [],
   "source": [
    "df_weekend_top_times = df_weekend.groupby(['STATION', 'DATE', 'WEEKDAY', 'HOUR'], as_index=False)['ENTRY_COUNT'].sum()"
   ]
  },
  {
   "cell_type": "code",
   "execution_count": null,
   "metadata": {
    "collapsed": false
   },
   "outputs": [],
   "source": [
    "df_weekend_top_times = df_weekend_top_times.groupby(['STATION', 'WEEKDAY', 'HOUR'], as_index=False)['ENTRY_COUNT'].mean()\n",
    "df_weekend_top_times = df_weekend_top_times.sort_values(by=['ENTRY_COUNT']).tail(20)\n",
    "weekend_dict = {5: \"Saturday\", 6: \"Sunday\"}\n",
    "df_weekend_top_times['WEEKDAY'] = df_weekend_top_times['WEEKDAY'].map(weekend_dict)\n",
    "df_weekend_top_times['DESCRIPTION'] = df_weekend_top_times.STATION + \" \" \\\n",
    "    + df_weekend_top_times.WEEKDAY + \" at \" + \\\n",
    "    df_weekend_top_times.HOUR.map(str)\n",
    "sns.barplot(x='DESCRIPTION', y='ENTRY_COUNT', data=df_weekend_top_times)\n",
    "ax = plt.axes()\n",
    "ax.set_title('Top stations on the weekends and its time')\n",
    "ax.set_ylabel('Daily entries')\n",
    "for l in ax.get_xticklabels():\n",
    "    l.set_rotation(90)"
   ]
  },
  {
   "cell_type": "code",
   "execution_count": null,
   "metadata": {
    "collapsed": false
   },
   "outputs": [],
   "source": [
    "df_herald_sq = df[df.STATION == '34 ST-HERALD SQ'][['DATE', 'TIME', 'ENTRY_COUNT']]\n",
    "df_herald_sq.head(10)"
   ]
  },
  {
   "cell_type": "code",
   "execution_count": null,
   "metadata": {
    "collapsed": false
   },
   "outputs": [],
   "source": [
    "table = df_herald_sq.pivot_table('ENTRY_COUNT', 'DATE', 'TIME')\n",
    "sns.heatmap(table.head(20))"
   ]
  }
 ],
 "metadata": {
  "anaconda-cloud": {},
  "kernelspec": {
   "display_name": "Python [conda root]",
   "language": "python",
   "name": "conda-root-py"
  },
  "language_info": {
   "codemirror_mode": {
    "name": "ipython",
    "version": 3
   },
   "file_extension": ".py",
   "mimetype": "text/x-python",
   "name": "python",
   "nbconvert_exporter": "python",
   "pygments_lexer": "ipython3",
   "version": "3.5.2"
  }
 },
 "nbformat": 4,
 "nbformat_minor": 1
}
